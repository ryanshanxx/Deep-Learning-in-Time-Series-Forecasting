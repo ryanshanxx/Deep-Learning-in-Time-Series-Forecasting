{
 "cells": [
  {
   "cell_type": "code",
   "execution_count": 1,
   "metadata": {},
   "outputs": [
    {
     "name": "stderr",
     "output_type": "stream",
     "text": [
      "Using TensorFlow backend.\n"
     ]
    }
   ],
   "source": [
    "import numpy as np\n",
    "from math import sqrt\n",
    "from numpy import concatenate\n",
    "import matplotlib.pyplot as plt\n",
    "from pandas import read_csv\n",
    "from pandas import DataFrame\n",
    "from pandas import concat\n",
    "from sklearn.preprocessing import MinMaxScaler\n",
    "from sklearn.preprocessing import LabelEncoder\n",
    "from sklearn.metrics import mean_squared_error\n",
    "from keras.models import Sequential\n",
    "from keras.layers import Dense\n",
    "from keras.layers import LSTM\n",
    "#%matplotlib notebook"
   ]
  },
  {
   "cell_type": "code",
   "execution_count": 2,
   "metadata": {},
   "outputs": [],
   "source": [
    "# fix random seed for reproducibility\n",
    "np.random.seed(7)"
   ]
  },
  {
   "cell_type": "code",
   "execution_count": 4,
   "metadata": {},
   "outputs": [],
   "source": [
    "# convert series to supervised learning\n",
    "def series_to_supervised(data, n_in=1, n_out=1, dropnan=True):\n",
    "    n_vars = 1 if type(data) is list else data.shape[1]\n",
    "    df = DataFrame(data)\n",
    "    cols, names = list(), list()\n",
    "    # input sequence (t-n, ... t-1)\n",
    "    for i in range(n_in, 0, -1):\n",
    "        cols.append(df.shift(i))\n",
    "        names += [('var%d(t-%d)' % (j+1, i)) for j in range(n_vars)]\n",
    "    # forecast sequence (t, t+1, ... t+n)\n",
    "    for i in range(0, n_out):\n",
    "        cols.append(df.shift(-i))\n",
    "        if i == 0:\n",
    "            names += [('var%d(t)' % (j+1)) for j in range(n_vars)]\n",
    "        else:\n",
    "            names += [('var%d(t+%d)' % (j+1, i)) for j in range(n_vars)]\n",
    "    # put it all together\n",
    "    agg = concat(cols, axis=1)\n",
    "    agg.columns = names\n",
    "    # drop rows with NaN values\n",
    "    if dropnan:\n",
    "        agg.dropna(inplace=True)\n",
    "    return agg"
   ]
  },
  {
   "cell_type": "code",
   "execution_count": 5,
   "metadata": {},
   "outputs": [
    {
     "name": "stdout",
     "output_type": "stream",
     "text": [
      "   var1(t-1)  var2(t-1)   var1(t)\n",
      "1   0.444444   0.984456  0.442529\n",
      "2   0.442529   0.979275  0.442529\n",
      "3   0.442529   0.979275  0.442529\n",
      "4   0.442529   0.979275  0.446360\n",
      "5   0.446360   0.974093  0.446360\n"
     ]
    }
   ],
   "source": [
    "# load dataset\n",
    "dataset = read_csv('Treasury_ML(15yr).csv', index_col=0)\n",
    "values = dataset.values\n",
    "# integer encode direction\n",
    "encoder = LabelEncoder()\n",
    "values[:,1] = encoder.fit_transform(values[:,1])\n",
    "# ensure all data is float\n",
    "values = values.astype('float32')\n",
    "# normalize features\n",
    "scaler = MinMaxScaler(feature_range=(0, 1))\n",
    "scaled = scaler.fit_transform(values)\n",
    "# frame as supervised learning\n",
    "reframed = series_to_supervised(scaled, 1, 1)\n",
    "# drop columns we don't want to predict\n",
    "reframed.drop(reframed.columns[[3]], axis=1, inplace=True)\n",
    "print(reframed.head())"
   ]
  },
  {
   "cell_type": "code",
   "execution_count": 6,
   "metadata": {},
   "outputs": [
    {
     "name": "stdout",
     "output_type": "stream",
     "text": [
      "(3670, 1, 2) (3670,) (1809, 1, 2) (1809,)\n"
     ]
    }
   ],
   "source": [
    "# split into train and test sets\n",
    "values = reframed.values\n",
    "n_train_hours = int(len(reframed)*0.67)\n",
    "train = values[:n_train_hours, :]\n",
    "test = values[n_train_hours:, :]\n",
    "# split into input and outputs\n",
    "train_X, train_y = train[:, :-1], train[:, -1]\n",
    "test_X, test_y = test[:, :-1], test[:, -1]\n",
    "# reshape input to be 3D [samples, timesteps, features]\n",
    "train_X = train_X.reshape((train_X.shape[0], 1, train_X.shape[1]))\n",
    "test_X = test_X.reshape((test_X.shape[0], 1, test_X.shape[1]))\n",
    "print(train_X.shape, train_y.shape, test_X.shape, test_y.shape)"
   ]
  },
  {
   "cell_type": "code",
   "execution_count": 7,
   "metadata": {
    "scrolled": true
   },
   "outputs": [
    {
     "name": "stderr",
     "output_type": "stream",
     "text": [
      "WARNING: Logging before flag parsing goes to stderr.\n",
      "W0827 13:11:51.619517  8760 deprecation_wrapper.py:119] From C:\\Program Files\\Anaconda3\\envs\\tensorflow\\lib\\site-packages\\keras\\backend\\tensorflow_backend.py:74: The name tf.get_default_graph is deprecated. Please use tf.compat.v1.get_default_graph instead.\n",
      "\n",
      "W0827 13:11:51.641515  8760 deprecation_wrapper.py:119] From C:\\Program Files\\Anaconda3\\envs\\tensorflow\\lib\\site-packages\\keras\\backend\\tensorflow_backend.py:517: The name tf.placeholder is deprecated. Please use tf.compat.v1.placeholder instead.\n",
      "\n",
      "W0827 13:11:51.645515  8760 deprecation_wrapper.py:119] From C:\\Program Files\\Anaconda3\\envs\\tensorflow\\lib\\site-packages\\keras\\backend\\tensorflow_backend.py:4138: The name tf.random_uniform is deprecated. Please use tf.random.uniform instead.\n",
      "\n",
      "W0827 13:11:51.990500  8760 deprecation_wrapper.py:119] From C:\\Program Files\\Anaconda3\\envs\\tensorflow\\lib\\site-packages\\keras\\optimizers.py:790: The name tf.train.Optimizer is deprecated. Please use tf.compat.v1.train.Optimizer instead.\n",
      "\n",
      "W0827 13:11:52.299488  8760 deprecation.py:323] From C:\\Program Files\\Anaconda3\\envs\\tensorflow\\lib\\site-packages\\tensorflow\\python\\ops\\math_grad.py:1250: add_dispatch_support.<locals>.wrapper (from tensorflow.python.ops.array_ops) is deprecated and will be removed in a future version.\n",
      "Instructions for updating:\n",
      "Use tf.where in 2.0, which has the same broadcast rule as np.where\n",
      "W0827 13:11:53.046458  8760 deprecation_wrapper.py:119] From C:\\Program Files\\Anaconda3\\envs\\tensorflow\\lib\\site-packages\\keras\\backend\\tensorflow_backend.py:986: The name tf.assign_add is deprecated. Please use tf.compat.v1.assign_add instead.\n",
      "\n",
      "W0827 13:11:53.286448  8760 deprecation_wrapper.py:119] From C:\\Program Files\\Anaconda3\\envs\\tensorflow\\lib\\site-packages\\keras\\backend\\tensorflow_backend.py:973: The name tf.assign is deprecated. Please use tf.compat.v1.assign instead.\n",
      "\n"
     ]
    },
    {
     "name": "stdout",
     "output_type": "stream",
     "text": [
      "Train on 3670 samples, validate on 1809 samples\n",
      "Epoch 1/100\n",
      " - 3s - loss: 0.2970 - val_loss: 0.0821\n",
      "Epoch 2/100\n",
      " - 0s - loss: 0.2062 - val_loss: 0.1414\n",
      "Epoch 3/100\n",
      " - 0s - loss: 0.1764 - val_loss: 0.1058\n",
      "Epoch 4/100\n",
      " - 0s - loss: 0.1485 - val_loss: 0.0721\n",
      "Epoch 5/100\n",
      " - 0s - loss: 0.1138 - val_loss: 0.0320\n",
      "Epoch 6/100\n",
      " - 0s - loss: 0.0740 - val_loss: 0.0227\n",
      "Epoch 7/100\n",
      " - 0s - loss: 0.0300 - val_loss: 0.0495\n",
      "Epoch 8/100\n",
      " - 0s - loss: 0.0206 - val_loss: 0.0373\n",
      "Epoch 9/100\n",
      " - 0s - loss: 0.0202 - val_loss: 0.0374\n",
      "Epoch 10/100\n",
      " - 0s - loss: 0.0197 - val_loss: 0.0374\n",
      "Epoch 11/100\n",
      " - 0s - loss: 0.0210 - val_loss: 0.0382\n",
      "Epoch 12/100\n",
      " - 0s - loss: 0.0277 - val_loss: 0.0398\n",
      "Epoch 13/100\n",
      " - 0s - loss: 0.0521 - val_loss: 0.0210\n",
      "Epoch 14/100\n",
      " - 0s - loss: 0.0216 - val_loss: 0.0417\n",
      "Epoch 15/100\n",
      " - 0s - loss: 0.0218 - val_loss: 0.0389\n",
      "Epoch 16/100\n",
      " - 0s - loss: 0.0293 - val_loss: 0.0349\n",
      "Epoch 17/100\n",
      " - 0s - loss: 0.0460 - val_loss: 0.0214\n",
      "Epoch 18/100\n",
      " - 0s - loss: 0.0274 - val_loss: 0.0412\n",
      "Epoch 19/100\n",
      " - 0s - loss: 0.0183 - val_loss: 0.0355\n",
      "Epoch 20/100\n",
      " - 0s - loss: 0.0190 - val_loss: 0.0372\n",
      "Epoch 21/100\n",
      " - 0s - loss: 0.0218 - val_loss: 0.0373\n",
      "Epoch 22/100\n",
      " - 0s - loss: 0.0368 - val_loss: 0.0248\n",
      "Epoch 23/100\n",
      " - 0s - loss: 0.0300 - val_loss: 0.0345\n",
      "Epoch 24/100\n",
      " - 0s - loss: 0.0196 - val_loss: 0.0382\n",
      "Epoch 25/100\n",
      " - 0s - loss: 0.0266 - val_loss: 0.0365\n",
      "Epoch 26/100\n",
      " - 0s - loss: 0.0357 - val_loss: 0.0285\n",
      "Epoch 27/100\n",
      " - 0s - loss: 0.0277 - val_loss: 0.0395\n",
      "Epoch 28/100\n",
      " - 0s - loss: 0.0180 - val_loss: 0.0373\n",
      "Epoch 29/100\n",
      " - 0s - loss: 0.0227 - val_loss: 0.0374\n",
      "Epoch 30/100\n",
      " - 0s - loss: 0.0223 - val_loss: 0.0375\n",
      "Epoch 31/100\n",
      " - 0s - loss: 0.0336 - val_loss: 0.0278\n",
      "Epoch 32/100\n",
      " - 0s - loss: 0.0303 - val_loss: 0.0356\n",
      "Epoch 33/100\n",
      " - 0s - loss: 0.0167 - val_loss: 0.0357\n",
      "Epoch 34/100\n",
      " - 0s - loss: 0.0224 - val_loss: 0.0362\n",
      "Epoch 35/100\n",
      " - 0s - loss: 0.0190 - val_loss: 0.0362\n",
      "Epoch 36/100\n",
      " - 0s - loss: 0.0246 - val_loss: 0.0355\n",
      "Epoch 37/100\n",
      " - 0s - loss: 0.0347 - val_loss: 0.0263\n",
      "Epoch 38/100\n",
      " - 0s - loss: 0.0257 - val_loss: 0.0365\n",
      "Epoch 39/100\n",
      " - 0s - loss: 0.0153 - val_loss: 0.0328\n",
      "Epoch 40/100\n",
      " - 1s - loss: 0.0194 - val_loss: 0.0347\n",
      "Epoch 41/100\n",
      " - 0s - loss: 0.0185 - val_loss: 0.0330\n",
      "Epoch 42/100\n",
      " - 0s - loss: 0.0297 - val_loss: 0.0251\n",
      "Epoch 43/100\n",
      " - 0s - loss: 0.0291 - val_loss: 0.0283\n",
      "Epoch 44/100\n",
      " - 0s - loss: 0.0190 - val_loss: 0.0352\n",
      "Epoch 45/100\n",
      " - 1s - loss: 0.0226 - val_loss: 0.0342\n",
      "Epoch 46/100\n",
      " - 0s - loss: 0.0303 - val_loss: 0.0282\n",
      "Epoch 47/100\n",
      " - 0s - loss: 0.0254 - val_loss: 0.0350\n",
      "Epoch 48/100\n",
      " - 0s - loss: 0.0166 - val_loss: 0.0328\n",
      "Epoch 49/100\n",
      " - 0s - loss: 0.0298 - val_loss: 0.0293\n",
      "Epoch 50/100\n",
      " - 0s - loss: 0.0138 - val_loss: 0.0273\n",
      "Epoch 51/100\n",
      " - 0s - loss: 0.0262 - val_loss: 0.0316\n",
      "Epoch 52/100\n",
      " - 0s - loss: 0.0130 - val_loss: 0.0230\n",
      "Epoch 53/100\n",
      " - 0s - loss: 0.0269 - val_loss: 0.0276\n",
      "Epoch 54/100\n",
      " - 0s - loss: 0.0119 - val_loss: 0.0202\n",
      "Epoch 55/100\n",
      " - 0s - loss: 0.0268 - val_loss: 0.0246\n",
      "Epoch 56/100\n",
      " - 0s - loss: 0.0112 - val_loss: 0.0173\n",
      "Epoch 57/100\n",
      " - 0s - loss: 0.0270 - val_loss: 0.0215\n",
      "Epoch 58/100\n",
      " - 0s - loss: 0.0110 - val_loss: 0.0164\n",
      "Epoch 59/100\n",
      " - 0s - loss: 0.0276 - val_loss: 0.0176\n",
      "Epoch 60/100\n",
      " - 0s - loss: 0.0113 - val_loss: 0.0164\n",
      "Epoch 61/100\n",
      " - 0s - loss: 0.0283 - val_loss: 0.0145\n",
      "Epoch 62/100\n",
      " - 0s - loss: 0.0113 - val_loss: 0.0157\n",
      "Epoch 63/100\n",
      " - 0s - loss: 0.0292 - val_loss: 0.0127\n",
      "Epoch 64/100\n",
      " - 0s - loss: 0.0112 - val_loss: 0.0162\n",
      "Epoch 65/100\n",
      " - 0s - loss: 0.0306 - val_loss: 0.0113\n",
      "Epoch 66/100\n",
      " - 0s - loss: 0.0114 - val_loss: 0.0164\n",
      "Epoch 67/100\n",
      " - 0s - loss: 0.0298 - val_loss: 0.0118\n",
      "Epoch 68/100\n",
      " - 0s - loss: 0.0113 - val_loss: 0.0162\n",
      "Epoch 69/100\n",
      " - 0s - loss: 0.0294 - val_loss: 0.0119\n",
      "Epoch 70/100\n",
      " - 0s - loss: 0.0110 - val_loss: 0.0154\n",
      "Epoch 71/100\n",
      " - 0s - loss: 0.0288 - val_loss: 0.0122\n",
      "Epoch 72/100\n",
      " - 0s - loss: 0.0104 - val_loss: 0.0133\n",
      "Epoch 73/100\n",
      " - 0s - loss: 0.0277 - val_loss: 0.0128\n",
      "Epoch 74/100\n",
      " - 0s - loss: 0.0097 - val_loss: 0.0106\n",
      "Epoch 75/100\n",
      " - 0s - loss: 0.0276 - val_loss: 0.0122\n",
      "Epoch 76/100\n",
      " - 0s - loss: 0.0083 - val_loss: 0.0079\n",
      "Epoch 77/100\n",
      " - 0s - loss: 0.0267 - val_loss: 0.0128\n",
      "Epoch 78/100\n",
      " - 0s - loss: 0.0073 - val_loss: 0.0056\n",
      "Epoch 79/100\n",
      " - 0s - loss: 0.0250 - val_loss: 0.0144\n",
      "Epoch 80/100\n",
      " - 0s - loss: 0.0064 - val_loss: 0.0045\n",
      "Epoch 81/100\n",
      " - 0s - loss: 0.0184 - val_loss: 0.0124\n",
      "Epoch 82/100\n",
      " - 0s - loss: 0.0102 - val_loss: 0.0046\n",
      "Epoch 83/100\n",
      " - 0s - loss: 0.0238 - val_loss: 0.0133\n",
      "Epoch 84/100\n",
      " - 0s - loss: 0.0088 - val_loss: 0.0045\n",
      "Epoch 85/100\n",
      " - 0s - loss: 0.0233 - val_loss: 0.0132\n",
      "Epoch 86/100\n",
      " - 0s - loss: 0.0089 - val_loss: 0.0043\n",
      "Epoch 87/100\n",
      " - 0s - loss: 0.0231 - val_loss: 0.0132\n",
      "Epoch 88/100\n",
      " - 0s - loss: 0.0088 - val_loss: 0.0044\n",
      "Epoch 89/100\n",
      " - 0s - loss: 0.0236 - val_loss: 0.0123\n",
      "Epoch 90/100\n",
      " - 0s - loss: 0.0083 - val_loss: 0.0043\n",
      "Epoch 91/100\n",
      " - 0s - loss: 0.0210 - val_loss: 0.0143\n",
      "Epoch 92/100\n",
      " - 0s - loss: 0.0103 - val_loss: 0.0058\n",
      "Epoch 93/100\n",
      " - 0s - loss: 0.0274 - val_loss: 0.0090\n",
      "Epoch 94/100\n",
      " - 0s - loss: 0.0115 - val_loss: 0.0075\n",
      "Epoch 95/100\n",
      " - 0s - loss: 0.0291 - val_loss: 0.0083\n",
      "Epoch 96/100\n",
      " - 0s - loss: 0.0088 - val_loss: 0.0073\n",
      "Epoch 97/100\n",
      " - 0s - loss: 0.0251 - val_loss: 0.0133\n",
      "Epoch 98/100\n",
      " - 0s - loss: 0.0064 - val_loss: 0.0040\n",
      "Epoch 99/100\n",
      " - 0s - loss: 0.0185 - val_loss: 0.0111\n",
      "Epoch 100/100\n",
      " - 0s - loss: 0.0117 - val_loss: 0.0036\n"
     ]
    },
    {
     "data": {
      "image/png": "[encoded data removed]",
      "text/plain": [
       "<Figure size 432x288 with 1 Axes>"
      ]
     },
     "metadata": {
      "needs_background": "light"
     },
     "output_type": "display_data"
    }
   ],
   "source": [
    "# design network\n",
    "model = Sequential()\n",
    "model.add(LSTM(50, input_shape=(train_X.shape[1], train_X.shape[2])))\n",
    "model.add(Dense(1))\n",
    "model.compile(loss='mae', optimizer='adam')\n",
    "# fit network\n",
    "history = model.fit(train_X, train_y, epochs=100, batch_size=72, \n",
    "                    validation_data=(test_X, test_y), verbose=2, shuffle=False)\n",
    "# plot history\n",
    "plt.plot(history.history['loss'], label='train')\n",
    "plt.plot(history.history['val_loss'], label='test')\n",
    "plt.legend()\n",
    "plt.show()"
   ]
  },
  {
   "cell_type": "code",
   "execution_count": 8,
   "metadata": {},
   "outputs": [],
   "source": [
    "# make a prediction\n",
    "yhat = model.predict(test_X)\n",
    "train_yhat = model.predict(train_X)\n",
    "train_X = np.reshape(train_X, (train_X.shape[0], train_X.shape[2]))\n",
    "test_X = np.reshape(test_X, (test_X.shape[0], test_X.shape[2]))"
   ]
  },
  {
   "cell_type": "code",
   "execution_count": 9,
   "metadata": {},
   "outputs": [
    {
     "name": "stdout",
     "output_type": "stream",
     "text": [
      "Train RMSE: 0.1914\n",
      "Test RMSE: 0.0268\n"
     ]
    }
   ],
   "source": [
    "# invert scaling for forecast\n",
    "inv_yhat = concatenate((yhat, test_X[:, 1:]), axis=1)\n",
    "inv_yhat = scaler.inverse_transform(inv_yhat)\n",
    "inv_yhat = inv_yhat[:,0]\n",
    "\n",
    "inv_train_yhat = concatenate((train_yhat, train_X[:, 1:]), axis=1)\n",
    "inv_train_yhat = scaler.inverse_transform(inv_train_yhat)\n",
    "inv_train_yhat = inv_train_yhat[:,0]\n",
    "\n",
    "# invert scaling for actual\n",
    "test_y = test_y.reshape((len(test_y), 1))\n",
    "inv_y = concatenate((test_y, test_X[:, 1:]), axis=1)\n",
    "inv_y = scaler.inverse_transform(inv_y)\n",
    "inv_y = inv_y[:,0]\n",
    "\n",
    "train_y = train_y.reshape((len(train_y), 1))\n",
    "inv_train_y = concatenate((train_y, train_X[:, 1:]), axis=1)\n",
    "inv_train_y = scaler.inverse_transform(inv_train_y)\n",
    "inv_train_y = inv_train_y[:,0]\n",
    "\n",
    "# calculate RMSE\n",
    "train_rmse = sqrt(mean_squared_error(inv_train_y, inv_train_yhat))\n",
    "print('Train RMSE: %.4f' % train_rmse)\n",
    "test_rmse = sqrt(mean_squared_error(inv_y, inv_yhat))\n",
    "print('Test RMSE: %.4f' % test_rmse)"
   ]
  },
  {
   "cell_type": "code",
   "execution_count": 10,
   "metadata": {},
   "outputs": [
    {
     "data": {
      "image/png": "[encoded data removed]",
      "text/plain": [
       "<Figure size 432x288 with 1 Axes>"
      ]
     },
     "metadata": {
      "needs_background": "light"
     },
     "output_type": "display_data"
    },
    {
     "name": "stdout",
     "output_type": "stream",
     "text": [
      "Training set accuracy: 94.86990869045258%\n"
     ]
    }
   ],
   "source": [
    "plt.plot(inv_train_y, label = 'Training Set')\n",
    "plt.plot(inv_train_yhat, label = 'Train Predict')\n",
    "plt.legend()\n",
    "plt.show()\n",
    "print('Training set accuracy:',\n",
    "      '{}%'.format(100-np.mean(abs(inv_train_y-inv_train_yhat)/inv_train_y)*100,'%'))"
   ]
  },
  {
   "cell_type": "code",
   "execution_count": 11,
   "metadata": {},
   "outputs": [
    {
     "data": {
      "image/png": "[encoded data removed]",
      "text/plain": [
       "<Figure size 432x288 with 1 Axes>"
      ]
     },
     "metadata": {
      "needs_background": "light"
     },
     "output_type": "display_data"
    },
    {
     "name": "stdout",
     "output_type": "stream",
     "text": [
      "Testing set accuracy: 93.86265985667706%\n"
     ]
    }
   ],
   "source": [
    "plt.plot(inv_y, label = 'Testing Set')\n",
    "plt.plot(inv_yhat, label = 'Test Predict')\n",
    "plt.legend()\n",
    "plt.show()\n",
    "print('Testing set accuracy:',\n",
    "      '{}%'.format(100-np.mean(abs(inv_y-inv_yhat)/inv_y)*100,'%'))"
   ]
  }
 ],
 "metadata": {
  "kernelspec": {
   "display_name": "Python 3",
   "language": "python",
   "name": "python3"
  },
  "language_info": {
   "codemirror_mode": {
    "name": "ipython",
    "version": 3
   },
   "file_extension": ".py",
   "mimetype": "text/x-python",
   "name": "python",
   "nbconvert_exporter": "python",
   "pygments_lexer": "ipython3",
   "version": "3.6.9"
  }
 },
 "nbformat": 4,
 "nbformat_minor": 2
}
